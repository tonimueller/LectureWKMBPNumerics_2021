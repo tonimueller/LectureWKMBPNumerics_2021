{
 "cells": [
  {
   "cell_type": "markdown",
   "metadata": {},
   "source": [
    "# Calculator class"
   ]
  },
  {
   "cell_type": "code",
   "execution_count": 1,
   "metadata": {},
   "outputs": [
    {
     "name": "stdout",
     "output_type": "stream",
     "text": [
      "Using matplotlib backend: agg\n",
      "Populating the interactive namespace from numpy and matplotlib\n"
     ]
    }
   ],
   "source": [
    "%pylab"
   ]
  },
  {
   "cell_type": "code",
   "execution_count": 2,
   "metadata": {},
   "outputs": [],
   "source": [
    "%matplotlib inline  "
   ]
  },
  {
   "cell_type": "code",
   "execution_count": 3,
   "metadata": {},
   "outputs": [
    {
     "name": "stdout",
     "output_type": "stream",
     "text": [
      "Hello World\n"
     ]
    }
   ],
   "source": [
    "print(\"Hello World\")"
   ]
  },
  {
   "cell_type": "code",
   "execution_count": 5,
   "metadata": {},
   "outputs": [],
   "source": [
    "import pandas as pd\n",
    "from scipy.optimize import curve_fit"
   ]
  },
  {
   "cell_type": "code",
   "execution_count": 6,
   "metadata": {},
   "outputs": [],
   "source": [
    "class calculator:\n",
    "    # initialize function setting paramters a and b with defaults, and the x values for the linear function\n",
    "    def __init__(self,a_=1,b_=1):\n",
    "        self.a = a_\n",
    "        self.b = b_\n",
    "        self.myX = np.linspace(0,20,21)\n",
    "        \n",
    "    # function to perform addition\n",
    "    def add(self):\n",
    "        return self.a + self.b\n",
    "    \n",
    "    # function to perform substraction\n",
    "    def sub(self):\n",
    "        return self.a - self.b\n",
    "    \n",
    "    # function to perform multiplication\n",
    "    def mult(self):\n",
    "        return self.a * self.b\n",
    "    \n",
    "    # fit function to be used next\n",
    "    def simpleLinearFunction(self,x, a, b):\n",
    "        return a*x + b\n",
    "    \n",
    "    # function to calculate linear function from parameters a and b\n",
    "    def getLinear(self):\n",
    "        return self.simpleLinearFunction(self.myX, self.a, self.b)\n",
    "    \n",
    "    # function to write out the linear function obtained with a and b\n",
    "    def writeLinear(self, fname= \"pd_calculator.dat\" ):\n",
    "        # prepare data\n",
    "        writeData = np.transpose(np.vstack((self.myX,self.getLinear())))\n",
    "        \n",
    "        # how to simply write out files with pandas\n",
    "        linearWriter = pd.DataFrame(data = writeData,columns = [\"# x\",\"ax+b\"])\n",
    "        linearWriter.to_csv(fname, sep = '\\t', index = False, float_format = \"%.3f\")\n",
    "        \n",
    "        #how to write out files with numpy\n",
    "        #np.savetxt(\"linearFunction_np.dat\", writeData, delimiter = '\\t',header = \"x\\tax+b\",fmt = \"%.3f\")\n",
    "        \n",
    "        return True\n",
    "    \n",
    "    # function to read in the linear function\n",
    "    def readLinear(self, fn = \"pd_calculator.dat\"):\n",
    "        # read in data using pandas:\n",
    "        readData = pd.read_csv(fn, delimiter = '\\t')\n",
    "        x = readData.values[:,0]\n",
    "        y = readData.values[:,1]\n",
    "        \n",
    "        # read in data using numpy:\n",
    "        #readData = np.loadtxt(fn, delimiter = '\\t')\n",
    "        #x = readData[:,0]\n",
    "        #y = readData[:,1]\n",
    "        print(readData, x, y)\n",
    "        \n",
    "        # run the fit with x and y\n",
    "        popt, pcov = curve_fit(self.simpleLinearFunction, x, y)\n",
    "        self.a = popt[0]\n",
    "        self.b = popt[1]\n",
    "        \n",
    "        # sanity check\n",
    "        if( (self.getLinear() == y).all ):\n",
    "            return True\n",
    "        else:\n",
    "            return False"
   ]
  },
  {
   "cell_type": "code",
   "execution_count": 7,
   "metadata": {},
   "outputs": [
    {
     "name": "stdout",
     "output_type": "stream",
     "text": [
      "Results of the test instance\n",
      "a= 1 b= 1\n",
      "a+b= 2\n",
      "a-b= 0\n",
      "a*b= 1\n",
      "Results of the simon instance\n",
      "a= 4 b= 2\n",
      "a+b= 6\n",
      "a-b= 2\n",
      "a*b= 8\n",
      "     # x  ax+b\n",
      "0    0.0   2.0\n",
      "1    1.0   6.0\n",
      "2    2.0  10.0\n",
      "3    3.0  14.0\n",
      "4    4.0  18.0\n",
      "5    5.0  22.0\n",
      "6    6.0  26.0\n",
      "7    7.0  30.0\n",
      "8    8.0  34.0\n",
      "9    9.0  38.0\n",
      "10  10.0  42.0\n",
      "11  11.0  46.0\n",
      "12  12.0  50.0\n",
      "13  13.0  54.0\n",
      "14  14.0  58.0\n",
      "15  15.0  62.0\n",
      "16  16.0  66.0\n",
      "17  17.0  70.0\n",
      "18  18.0  74.0\n",
      "19  19.0  78.0\n",
      "20  20.0  82.0 [ 0.  1.  2.  3.  4.  5.  6.  7.  8.  9. 10. 11. 12. 13. 14. 15. 16. 17.\n",
      " 18. 19. 20.] [ 2.  6. 10. 14. 18. 22. 26. 30. 34. 38. 42. 46. 50. 54. 58. 62. 66. 70.\n",
      " 74. 78. 82.]\n"
     ]
    },
    {
     "data": {
      "text/plain": [
       "True"
      ]
     },
     "execution_count": 7,
     "metadata": {},
     "output_type": "execute_result"
    }
   ],
   "source": [
    "# run some test output\n",
    "test = calculator()\n",
    "print(\"Results of the test instance\")\n",
    "print(\"a=\",test.a,\"b=\",test.b,)\n",
    "print(\"a+b=\", test.add())\n",
    "print(\"a-b=\", test.sub())\n",
    "print(\"a*b=\", test.mult())\n",
    "simon = calculator(4,2)\n",
    "print(\"Results of the simon instance\")\n",
    "print(\"a=\",simon.a,\"b=\",simon.b,)\n",
    "print(\"a+b={:2}\".format(simon.add()))\n",
    "print(\"a-b=\", simon.sub())\n",
    "print(\"a*b=\", simon.mult())\n",
    "#print(np.transpose(np.vstack((simon.myX,simon.getLinear()))))\n",
    "simon.writeLinear()\n",
    "simon.readLinear()"
   ]
  },
  {
   "cell_type": "code",
   "execution_count": 8,
   "metadata": {},
   "outputs": [
    {
     "name": "stdout",
     "output_type": "stream",
     "text": [
      "     # x  ax+b\n",
      "0    0.0   7.0\n",
      "1    1.0  10.0\n",
      "2    2.0  13.0\n",
      "3    3.0  16.0\n",
      "4    4.0  19.0\n",
      "5    5.0  22.0\n",
      "6    6.0  25.0\n",
      "7    7.0  28.0\n",
      "8    8.0  31.0\n",
      "9    9.0  34.0\n",
      "10  10.0  37.0\n",
      "11  11.0  40.0\n",
      "12  12.0  43.0\n",
      "13  13.0  46.0\n",
      "14  14.0  49.0\n",
      "15  15.0  52.0\n",
      "16  16.0  55.0\n",
      "17  17.0  58.0\n",
      "18  18.0  61.0\n",
      "19  19.0  64.0\n",
      "20  20.0  67.0 [ 0.  1.  2.  3.  4.  5.  6.  7.  8.  9. 10. 11. 12. 13. 14. 15. 16. 17.\n",
      " 18. 19. 20.] [ 7. 10. 13. 16. 19. 22. 25. 28. 31. 34. 37. 40. 43. 46. 49. 52. 55. 58.\n",
      " 61. 64. 67.]\n"
     ]
    },
    {
     "data": {
      "image/png": "[encoded data removed]",
      "text/plain": [
       "<matplotlib.figure.Figure at 0x7fec58b7b908>"
      ]
     },
     "metadata": {
      "needs_background": "light"
     },
     "output_type": "display_data"
    }
   ],
   "source": [
    "#start with tom\n",
    "tom = calculator(3,7)\n",
    "plot(tom.myX, tom.getLinear(),'o', label = \"tom\")\n",
    "tom.writeLinear(\"TomsFile.dat\")\n",
    "\n",
    "# maxi reads toms data\n",
    "maxi = calculator()\n",
    "maxi.readLinear(\"TomsFile.dat\")\n",
    "plot(maxi.myX, maxi.getLinear(),'-', label = \"maxi\")\n",
    "\n",
    "# change tom\n",
    "tom.a=1.5\n",
    "plot(tom.myX, tom.getLinear(),'.', label = \"changed tom\")\n",
    "\n",
    "legend(loc=\"best\")\n",
    "show()"
   ]
  },
  {
   "cell_type": "code",
   "execution_count": null,
   "metadata": {},
   "outputs": [],
   "source": []
  }
 ],
 "metadata": {
  "kernelspec": {
   "display_name": "Python 3",
   "language": "python",
   "name": "python3"
  },
  "language_info": {
   "codemirror_mode": {
    "name": "ipython",
    "version": 3
   },
   "file_extension": ".py",
   "mimetype": "text/x-python",
   "name": "python",
   "nbconvert_exporter": "python",
   "pygments_lexer": "ipython3",
   "version": "3.6.10"
  }
 },
 "nbformat": 4,
 "nbformat_minor": 2
}
